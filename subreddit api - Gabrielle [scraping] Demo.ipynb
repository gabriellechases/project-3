{
 "cells": [
  {
   "cell_type": "code",
   "execution_count": 1,
   "metadata": {},
   "outputs": [],
   "source": [
    "import requests \n",
    "import time\n",
    "import pandas as pd\n",
    "import random\n",
    "from bs4 import BeautifulSoup\n",
    "import requests\n",
    "import json\n",
    "import csv\n",
    "import time\n",
    "import datetime"
   ]
  },
  {
   "cell_type": "code",
   "execution_count": 3,
   "metadata": {},
   "outputs": [
    {
     "data": {
      "text/plain": [
       "200"
      ]
     },
     "execution_count": 3,
     "metadata": {},
     "output_type": "execute_result"
    }
   ],
   "source": [
    "url = \"https://www.reddit.com/r/republicans/.json\"\n",
    "headers = {'User-agent': 'gabrielle'}\n",
    "res = requests.get(url,headers = headers)\n",
    "res.status_code"
   ]
  },
  {
   "cell_type": "markdown",
   "metadata": {},
   "source": [
    "Status code looking fine and dandy! Let's move on:)"
   ]
  },
  {
   "cell_type": "code",
   "execution_count": 4,
   "metadata": {},
   "outputs": [
    {
     "data": {
      "text/plain": [
       "'t3_ewen2x'"
      ]
     },
     "execution_count": 4,
     "metadata": {},
     "output_type": "execute_result"
    }
   ],
   "source": [
    "DC = res.json()\n",
    "DC['data']['after']"
   ]
  },
  {
   "cell_type": "code",
   "execution_count": 5,
   "metadata": {},
   "outputs": [
    {
     "data": {
      "text/plain": [
       "<Response [200]>"
      ]
     },
     "execution_count": 5,
     "metadata": {},
     "output_type": "execute_result"
    }
   ],
   "source": [
    "params = {'after':'t3_ew8e7s'}\n",
    "requests.get(url, params = params, headers = headers)"
   ]
  },
  {
   "cell_type": "code",
   "execution_count": 6,
   "metadata": {},
   "outputs": [
    {
     "name": "stdout",
     "output_type": "stream",
     "text": [
      "11\n",
      "Scrapping Complete\n",
      "15\n",
      "Scrapping Complete\n",
      "15\n",
      "Scrapping Complete\n",
      "11\n",
      "Scrapping Complete\n",
      "11\n",
      "Scrapping Complete\n",
      "6\n",
      "Scrapping Complete\n",
      "6\n",
      "Scrapping Complete\n",
      "5\n",
      "Scrapping Complete\n",
      "8\n",
      "Scrapping Complete\n",
      "4\n",
      "Scrapping Complete\n",
      "2\n",
      "Scrapping Complete\n",
      "6\n",
      "Scrapping Complete\n",
      "10\n",
      "Scrapping Complete\n",
      "2\n",
      "Scrapping Complete\n",
      "13\n",
      "Scrapping Complete\n",
      "3\n",
      "Scrapping Complete\n",
      "9\n",
      "Scrapping Complete\n",
      "11\n",
      "Scrapping Complete\n",
      "12\n",
      "Scrapping Complete\n",
      "3\n",
      "Scrapping Complete\n",
      "7\n",
      "Scrapping Complete\n",
      "9\n",
      "Scrapping Complete\n",
      "2\n",
      "Scrapping Complete\n",
      "5\n",
      "Scrapping Complete\n",
      "7\n",
      "Scrapping Complete\n",
      "6\n",
      "Scrapping Complete\n",
      "9\n",
      "Scrapping Complete\n",
      "7\n",
      "Scrapping Complete\n",
      "7\n",
      "Scrapping Complete\n",
      "13\n",
      "Scrapping Complete\n",
      "11\n",
      "Scrapping Complete\n",
      "15\n",
      "Scrapping Complete\n",
      "9\n",
      "Scrapping Complete\n",
      "4\n",
      "Scrapping Complete\n",
      "7\n",
      "Scrapping Complete\n",
      "15\n",
      "Scrapping Complete\n",
      "8\n",
      "Scrapping Complete\n",
      "14\n",
      "Scrapping Complete\n",
      "14\n",
      "Scrapping Complete\n",
      "2\n",
      "Scrapping Complete\n",
      "3\n",
      "Scrapping Complete\n",
      "8\n",
      "Scrapping Complete\n",
      "13\n",
      "Scrapping Complete\n",
      "4\n",
      "Scrapping Complete\n",
      "6\n",
      "Scrapping Complete\n",
      "10\n",
      "Scrapping Complete\n",
      "4\n",
      "Scrapping Complete\n",
      "13\n",
      "Scrapping Complete\n",
      "8\n",
      "Scrapping Complete\n",
      "3\n",
      "Scrapping Complete\n",
      "7\n",
      "Scrapping Complete\n",
      "8\n",
      "Scrapping Complete\n",
      "12\n",
      "Scrapping Complete\n",
      "15\n",
      "Scrapping Complete\n",
      "2\n",
      "Scrapping Complete\n",
      "13\n",
      "Scrapping Complete\n",
      "13\n",
      "Scrapping Complete\n",
      "3\n",
      "Scrapping Complete\n",
      "13\n",
      "Scrapping Complete\n",
      "10\n",
      "Scrapping Complete\n"
     ]
    }
   ],
   "source": [
    "post = []\n",
    "after = None\n",
    "for i in range(60):\n",
    "    if after == None:\n",
    "        params = {}\n",
    "    else:\n",
    "        params = {'after': after}\n",
    "    res = requests.get(url,params = params, headers = headers)\n",
    "    if res.status_code ==200:\n",
    "        main_json = res.json()\n",
    "        posts = [p['data'] for p in main_json['data']['children']]\n",
    "        post.extend(posts)\n",
    "        after = main_json['data']['after']\n",
    "    else:\n",
    "        print('Status error',res.status_code)\n",
    "        break\n",
    "    sleep_duration = random.randint(2,15)\n",
    "    print(sleep_duration)\n",
    "    time.sleep(sleep_duration)\n",
    "    print(\"Scrapping Complete\")"
   ]
  },
  {
   "cell_type": "code",
   "execution_count": 7,
   "metadata": {},
   "outputs": [
    {
     "data": {
      "text/plain": [
       "1484"
      ]
     },
     "execution_count": 7,
     "metadata": {},
     "output_type": "execute_result"
    }
   ],
   "source": [
    "len(post)"
   ]
  },
  {
   "cell_type": "code",
   "execution_count": null,
   "metadata": {},
   "outputs": [],
   "source": [
    "pd.DataFrame(post).to_csv('Reps.csv',index=False)"
   ]
  }
 ],
 "metadata": {
  "kernelspec": {
   "display_name": "Python 3",
   "language": "python",
   "name": "python3"
  },
  "language_info": {
   "codemirror_mode": {
    "name": "ipython",
    "version": 3
   },
   "file_extension": ".py",
   "mimetype": "text/x-python",
   "name": "python",
   "nbconvert_exporter": "python",
   "pygments_lexer": "ipython3",
   "version": "3.7.3"
  }
 },
 "nbformat": 4,
 "nbformat_minor": 2
}
